{
  "nbformat": 4,
  "nbformat_minor": 0,
  "metadata": {
    "colab": {
      "provenance": []
    },
    "kernelspec": {
      "name": "python3",
      "display_name": "Python 3"
    }
  },
  "cells": [
    {
      "cell_type": "markdown",
      "metadata": {
        "id": "RqUspUIgbPpN"
      },
      "source": [
        "# Assignment 4: Fertilizing the Lawn\n",
        "**OPIM 5641: Business Decision Modeling - University of Connecticut**\n",
        "\n",
        "* Jonathan Rucinski\n",
        "* jar17041\n",
        "\n",
        "--------------------------------------------------------------------------\n",
        "\n",
        "You may work with your fellow classmates, but you need to complete the assignment on your own. I expect different headers and COMMENTS (comments are the key to showing that you really know your stuff - without comments, your code is useless to me and we will deduct at least 50% points). Good luck!"
      ]
    },
    {
      "cell_type": "markdown",
      "metadata": {
        "id": "1SlnYk_-bWpX"
      },
      "source": [
        "**[Powell 9.2 - Fertilizing the Lawn]** The facilities manager at Oxbridge University is planning to apply fertilizer to the grass in the quadrangle area in the spring. The grass needs nitrogen, phosphorus, and potash in at least the amounts given in the following table:\n",
        "\n",
        "Mineral Minimum| Weight(lb)\n",
        "---|---\n",
        "Nitrogen| 12\n",
        "Phosphorus| 14\n",
        "Potash | 18\n",
        "\n",
        "Three kinds of commercial fertilizer are available, with mineral content and prices per 1,000 pounds as given in the followingtable.There is virtually unlimited supply of each kind of fertilizer.\n",
        "\n",
        "\n",
        "Fertilizer | Nitrogen Content (lb)| Phosphorus Content (lb)| Potash  Content (lb)| Price($)\n",
        "---|---|---|---|---\n",
        "A |20| 10| 5| 10\n",
        "B |10| 5| 15| 8\n",
        "C |15| 10| 5| 7\n",
        "\n",
        "\n",
        "1. (50 pts) How much of each fertilizer should be purchased to satisfy the requirements at minimum cost?\n",
        "\n",
        "  * **Answer** (so you can check your work): A = 0 lbs, B = 880 lbs, C = 960 lbs.\n",
        "\n",
        "2. (40 pts) What are the LHS values for the Nitrogren, Phosphorous and Potash constraints? What are the RHS values? Print these nicely at the bottom of your script.\n",
        "\n",
        "3. (10 pts) Are any of the constraints 'binding'? Describe which constraints are binding (if any), and as your boss, tell me why binding constraints might be the key to saving even more money."
      ]
    },
    {
      "cell_type": "markdown",
      "source": [
        "# Answer\n"
      ],
      "metadata": {
        "id": "xaBkG4uElQwi"
      }
    },
    {
      "cell_type": "markdown",
      "source": [
        "## Importing Pyomo\n"
      ],
      "metadata": {
        "id": "AEwpfmWflXkH"
      }
    },
    {
      "cell_type": "code",
      "source": [
        "# import modules\n",
        "\n",
        "# this makes plots using pylab (matplotlib)\n",
        "%matplotlib inline\n",
        "from pylab import * # * means import ALL NAME SPACES\n",
        "\n",
        "# useful modules for downloading pyomo onto Colab\n",
        "import shutil\n",
        "import sys\n",
        "import os.path\n",
        "\n",
        "# install pyomo\n",
        "if not shutil.which(\"pyomo\"):\n",
        "    !pip install -q pyomo\n",
        "    assert(shutil.which(\"pyomo\"))\n",
        "\n",
        "# install the 'cbc' solve if it doesn't exist\n",
        "if not (shutil.which(\"cbc\") or os.path.isfile(\"cbc\")):\n",
        "    if \"google.colab\" in sys.modules:\n",
        "        !apt-get install -y -qq coinor-cbc\n",
        "    else:\n",
        "        try:\n",
        "            !conda install -c conda-forge coincbc\n",
        "        except:\n",
        "            pass\n",
        "\n",
        "# 'cbc' is the solver that we will invoke later on\n",
        "assert(shutil.which(\"cbc\") or os.path.isfile(\"cbc\"))\n",
        "\n",
        "# import ALL NAMESPACES (variables) from pyomo\n",
        "from pyomo.environ import *"
      ],
      "metadata": {
        "colab": {
          "base_uri": "https://localhost:8080/"
        },
        "id": "gXtbFn2vlJlz",
        "outputId": "6874efb3-55c8-4099-d054-62283a94f79b"
      },
      "execution_count": null,
      "outputs": [
        {
          "output_type": "stream",
          "name": "stdout",
          "text": [
            "\u001b[2K     \u001b[90m━━━━━━━━━━━━━━━━━━━━━━━━━━━━━━━━━━━━━━━━\u001b[0m \u001b[32m12.7/12.7 MB\u001b[0m \u001b[31m27.5 MB/s\u001b[0m eta \u001b[36m0:00:00\u001b[0m\n",
            "\u001b[2K     \u001b[90m━━━━━━━━━━━━━━━━━━━━━━━━━━━━━━━━━━━━━━━━\u001b[0m \u001b[32m49.6/49.6 kB\u001b[0m \u001b[31m5.2 MB/s\u001b[0m eta \u001b[36m0:00:00\u001b[0m\n",
            "\u001b[?25hSelecting previously unselected package coinor-libcoinutils3v5:amd64.\n",
            "(Reading database ... 120895 files and directories currently installed.)\n",
            "Preparing to unpack .../0-coinor-libcoinutils3v5_2.11.4+repack1-2_amd64.deb ...\n",
            "Unpacking coinor-libcoinutils3v5:amd64 (2.11.4+repack1-2) ...\n",
            "Selecting previously unselected package coinor-libosi1v5:amd64.\n",
            "Preparing to unpack .../1-coinor-libosi1v5_0.108.6+repack1-2_amd64.deb ...\n",
            "Unpacking coinor-libosi1v5:amd64 (0.108.6+repack1-2) ...\n",
            "Selecting previously unselected package coinor-libclp1.\n",
            "Preparing to unpack .../2-coinor-libclp1_1.17.5+repack1-1_amd64.deb ...\n",
            "Unpacking coinor-libclp1 (1.17.5+repack1-1) ...\n",
            "Selecting previously unselected package coinor-libcgl1:amd64.\n",
            "Preparing to unpack .../3-coinor-libcgl1_0.60.3+repack1-3_amd64.deb ...\n",
            "Unpacking coinor-libcgl1:amd64 (0.60.3+repack1-3) ...\n",
            "Selecting previously unselected package coinor-libcbc3:amd64.\n",
            "Preparing to unpack .../4-coinor-libcbc3_2.10.7+ds1-1_amd64.deb ...\n",
            "Unpacking coinor-libcbc3:amd64 (2.10.7+ds1-1) ...\n",
            "Selecting previously unselected package coinor-cbc.\n",
            "Preparing to unpack .../5-coinor-cbc_2.10.7+ds1-1_amd64.deb ...\n",
            "Unpacking coinor-cbc (2.10.7+ds1-1) ...\n",
            "Setting up coinor-libcoinutils3v5:amd64 (2.11.4+repack1-2) ...\n",
            "Setting up coinor-libosi1v5:amd64 (0.108.6+repack1-2) ...\n",
            "Setting up coinor-libclp1 (1.17.5+repack1-1) ...\n",
            "Setting up coinor-libcgl1:amd64 (0.60.3+repack1-3) ...\n",
            "Setting up coinor-libcbc3:amd64 (2.10.7+ds1-1) ...\n",
            "Setting up coinor-cbc (2.10.7+ds1-1) ...\n",
            "Processing triggers for man-db (2.10.2-1) ...\n",
            "Processing triggers for libc-bin (2.35-0ubuntu3.1) ...\n",
            "/sbin/ldconfig.real: /usr/local/lib/libtbbmalloc.so.2 is not a symbolic link\n",
            "\n",
            "/sbin/ldconfig.real: /usr/local/lib/libtbbmalloc_proxy.so.2 is not a symbolic link\n",
            "\n",
            "/sbin/ldconfig.real: /usr/local/lib/libtbbbind_2_0.so.3 is not a symbolic link\n",
            "\n",
            "/sbin/ldconfig.real: /usr/local/lib/libtbbbind_2_5.so.3 is not a symbolic link\n",
            "\n",
            "/sbin/ldconfig.real: /usr/local/lib/libtbb.so.12 is not a symbolic link\n",
            "\n",
            "/sbin/ldconfig.real: /usr/local/lib/libtbbbind.so.3 is not a symbolic link\n",
            "\n"
          ]
        }
      ]
    },
    {
      "cell_type": "markdown",
      "source": [
        "## Define model type"
      ],
      "metadata": {
        "id": "ZnxlG4U5ljNK"
      }
    },
    {
      "cell_type": "code",
      "source": [
        "# defines the model as concrete\n",
        "model = ConcreteModel()"
      ],
      "metadata": {
        "id": "U759t133l0je"
      },
      "execution_count": null,
      "outputs": []
    },
    {
      "cell_type": "markdown",
      "source": [
        "## Define variables"
      ],
      "metadata": {
        "id": "PVu59Gurl_Pu"
      }
    },
    {
      "cell_type": "code",
      "source": [
        "# defining variables used within the objective function and constraints\n",
        "model.A = Var(domain=NonNegativeReals)\n",
        "model.B = Var(domain=NonNegativeReals)\n",
        "model.C = Var(domain=NonNegativeReals)"
      ],
      "metadata": {
        "id": "hy5BTTndmL8p"
      },
      "execution_count": null,
      "outputs": []
    },
    {
      "cell_type": "markdown",
      "source": [
        "## Declare objective function and constraints and pretty print them"
      ],
      "metadata": {
        "id": "xw-KmRghmM8q"
      }
    },
    {
      "cell_type": "code",
      "source": [
        "# defining the objective function\n",
        "model.profit = Objective(\n",
        "                      expr = 10*model.A + 8*model.B + 7*model.C,\n",
        "                      sense = minimize)\n",
        "\n",
        "# creates the three constraints for nitrogen, phosphorus, and potash minimums\n",
        "model.constraint1 = Constraint(expr = 20*model.A + 10*model.B + 15*model.C >= 12000)\n",
        "model.constraint2 = Constraint(expr = 10*model.A + 5*model.B + 10*model.C >= 14000)\n",
        "model.constraint3 = Constraint(expr = 5*model.A + 15*model.B + 5*model.C >= 18000)\n",
        "\n",
        "# pretty printing the variables, objective function, and constraints\n",
        "model.pprint()"
      ],
      "metadata": {
        "colab": {
          "base_uri": "https://localhost:8080/"
        },
        "id": "FLUccP3pmTtO",
        "outputId": "e0727049-4369-4ba1-ae3f-af0da6d75ab0"
      },
      "execution_count": null,
      "outputs": [
        {
          "output_type": "stream",
          "name": "stdout",
          "text": [
            "3 Var Declarations\n",
            "    A : Size=1, Index=None\n",
            "        Key  : Lower : Value : Upper : Fixed : Stale : Domain\n",
            "        None :     0 :  None :  None : False :  True : NonNegativeReals\n",
            "    B : Size=1, Index=None\n",
            "        Key  : Lower : Value : Upper : Fixed : Stale : Domain\n",
            "        None :     0 :  None :  None : False :  True : NonNegativeReals\n",
            "    C : Size=1, Index=None\n",
            "        Key  : Lower : Value : Upper : Fixed : Stale : Domain\n",
            "        None :     0 :  None :  None : False :  True : NonNegativeReals\n",
            "\n",
            "1 Objective Declarations\n",
            "    profit : Size=1, Index=None, Active=True\n",
            "        Key  : Active : Sense    : Expression\n",
            "        None :   True : minimize : 10*A + 8*B + 7*C\n",
            "\n",
            "3 Constraint Declarations\n",
            "    constraint1 : Size=1, Index=None, Active=True\n",
            "        Key  : Lower   : Body               : Upper : Active\n",
            "        None : 12000.0 : 20*A + 10*B + 15*C :  +Inf :   True\n",
            "    constraint2 : Size=1, Index=None, Active=True\n",
            "        Key  : Lower   : Body              : Upper : Active\n",
            "        None : 14000.0 : 10*A + 5*B + 10*C :  +Inf :   True\n",
            "    constraint3 : Size=1, Index=None, Active=True\n",
            "        Key  : Lower   : Body             : Upper : Active\n",
            "        None : 18000.0 : 5*A + 15*B + 5*C :  +Inf :   True\n",
            "\n",
            "7 Declarations: A B C profit constraint1 constraint2 constraint3\n"
          ]
        }
      ]
    },
    {
      "cell_type": "markdown",
      "source": [
        "## Solve and print solutions"
      ],
      "metadata": {
        "id": "j2l8dEJXmUtH"
      }
    },
    {
      "cell_type": "code",
      "source": [
        "# pyomo solver function\n",
        "SolverFactory('cbc', executable='/usr/bin/cbc').solve(model).write()"
      ],
      "metadata": {
        "colab": {
          "base_uri": "https://localhost:8080/"
        },
        "id": "NNM5k4iqmZ0h",
        "outputId": "c87b165d-cfb2-47d2-98da-c87e3b970216"
      },
      "execution_count": null,
      "outputs": [
        {
          "output_type": "stream",
          "name": "stdout",
          "text": [
            "# ==========================================================\n",
            "# = Solver Results                                         =\n",
            "# ==========================================================\n",
            "# ----------------------------------------------------------\n",
            "#   Problem Information\n",
            "# ----------------------------------------------------------\n",
            "Problem: \n",
            "- Name: unknown\n",
            "  Lower bound: 13760.0\n",
            "  Upper bound: 13760.0\n",
            "  Number of objectives: 1\n",
            "  Number of constraints: 3\n",
            "  Number of variables: 3\n",
            "  Number of nonzeros: 3\n",
            "  Sense: minimize\n",
            "# ----------------------------------------------------------\n",
            "#   Solver Information\n",
            "# ----------------------------------------------------------\n",
            "Solver: \n",
            "- Status: ok\n",
            "  User time: -1.0\n",
            "  System time: 0.0\n",
            "  Wallclock time: 0.0\n",
            "  Termination condition: optimal\n",
            "  Termination message: Model was solved to optimality (subject to tolerances), and an optimal solution is available.\n",
            "  Statistics: \n",
            "    Branch and bound: \n",
            "      Number of bounded subproblems: None\n",
            "      Number of created subproblems: None\n",
            "    Black box: \n",
            "      Number of iterations: 2\n",
            "  Error rc: 0\n",
            "  Time: 0.045094966888427734\n",
            "# ----------------------------------------------------------\n",
            "#   Solution Information\n",
            "# ----------------------------------------------------------\n",
            "Solution: \n",
            "- number of solutions: 0\n",
            "  number of solutions displayed: 0\n"
          ]
        }
      ]
    },
    {
      "cell_type": "code",
      "source": [
        "# prints the maximized profit and amount of each variable needed to acquire this solution\n",
        "print(\"Profit = $\", model.profit(), \" per mix\")\n",
        "print(\"A = \", model.A(), \" units per mix\")\n",
        "print(\"B = \", model.B(), \" units per mix\")\n",
        "print(\"C = \", model.C(), \" units per mix\")"
      ],
      "metadata": {
        "colab": {
          "base_uri": "https://localhost:8080/"
        },
        "id": "gh6J4Tx1s2iu",
        "outputId": "828e2ca7-8448-4167-b391-77cb354debac"
      },
      "execution_count": null,
      "outputs": [
        {
          "output_type": "stream",
          "name": "stdout",
          "text": [
            "Profit = $ 13760.0  per mix\n",
            "A =  0.0  units per mix\n",
            "B =  880.0  units per mix\n",
            "C =  960.0  units per mix\n"
          ]
        }
      ]
    },
    {
      "cell_type": "code",
      "source": [
        "# prints the content of nitrogen, phosphorus, and potash in the optimal solution\n",
        "print(\"Nitrogen = \", model.constraint1(), \"lbs\")\n",
        "print(\"Phosphorus = \", model.constraint2(), \"lbs\")\n",
        "print(\"Potash = \", model.constraint3(), \"lbs\")"
      ],
      "metadata": {
        "colab": {
          "base_uri": "https://localhost:8080/"
        },
        "id": "TsowFS00tUW6",
        "outputId": "c0346fa3-9b9f-4106-f1b7-151d09189f91"
      },
      "execution_count": null,
      "outputs": [
        {
          "output_type": "stream",
          "name": "stdout",
          "text": [
            "Nitrogen =  23200.0 lbs\n",
            "Phosphorus =  14000.0 lbs\n",
            "Potash =  18000.0 lbs\n"
          ]
        }
      ]
    }
  ]
}